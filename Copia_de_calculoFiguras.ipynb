{
  "nbformat": 4,
  "nbformat_minor": 0,
  "metadata": {
    "colab": {
      "provenance": [],
      "authorship_tag": "ABX9TyPiO2uYpLIjnQqYyG1C6kZU",
      "include_colab_link": true
    },
    "kernelspec": {
      "name": "python3",
      "display_name": "Python 3"
    },
    "language_info": {
      "name": "python"
    }
  },
  "cells": [
    {
      "cell_type": "markdown",
      "metadata": {
        "id": "view-in-github",
        "colab_type": "text"
      },
      "source": [
        "<a href=\"https://colab.research.google.com/github/Jotaflorez25/calcular_descuento/blob/main/Copia_de_calculoFiguras.ipynb\" target=\"_parent\"><img src=\"https://colab.research.google.com/assets/colab-badge.svg\" alt=\"Open In Colab\"/></a>"
      ]
    },
    {
      "cell_type": "markdown",
      "source": [
        "**PROGRAMA PARA EL CÁLCULO DE PERÍMETROS, ÁREAS Y VOLÚMENES**\n"
      ],
      "metadata": {
        "id": "mD2cYfQt_7V5"
      }
    },
    {
      "cell_type": "markdown",
      "source": [
        "APRENDIZ: JUAN JOSE FLOREZ MILANES FICHA: 2977877  FECHA: 22/08/2024"
      ],
      "metadata": {
        "id": "81jUczGHBf78"
      }
    },
    {
      "cell_type": "markdown",
      "source": [
        "**FIGURAS PLANAS**\n",
        "\n",
        "---\n",
        "\n",
        "**Áreas y perímetros**\n",
        "\n",
        "---\n",
        "\n",
        "![imagen.png](https://scontent-bog2-2.xx.fbcdn.net/v/t39.30808-6/456379942_7979282502178929_8510412569366622938_n.jpg?_nc_cat=109&ccb=1-7&_nc_sid=127cfc&_nc_ohc=bOXfNmgezmIQ7kNvgG_n70J&_nc_ht=scontent-bog2-2.xx&oh=00_AYDlmnCscVvynZm7JvS1W5nSX67znut5AHlzyN6pQHyNPQ&oe=66CD78B0)\n",
        "\n",
        "---\n",
        "\n"
      ],
      "metadata": {
        "id": "croAvQtU1i6Q"
      }
    },
    {
      "cell_type": "markdown",
      "source": [
        "**FIGURAS VOLUMETRICAS**\n",
        "\n",
        "---\n",
        "\n",
        "**Áreas y Volúmenes:**\n",
        "\n",
        "![imagen.png](https://scontent-bog2-2.xx.fbcdn.net/v/t39.30808-6/456063184_7979282508845595_1787638414792268168_n.jpg?_nc_cat=109&ccb=1-7&_nc_sid=127cfc&_nc_ohc=6xXgRHsLcrMQ7kNvgGuJKua&_nc_ht=scontent-bog2-2.xx&oh=00_AYAA6jNh98t59u29TQETyfXVWOlxmoZNI3e2n92_KIlaMA&oe=66CD84B5)\n",
        "\n",
        "---\n",
        "\n"
      ],
      "metadata": {
        "id": "hXLwFcKFBulD"
      }
    },
    {
      "cell_type": "markdown",
      "source": [
        "**FIGURAS SOLIDAS IRREGULARES**\n",
        "\n",
        "---\n",
        "\n",
        "Formula del principio de Arquímedes para hallar el volumen de un sólido irregular:\n",
        "**Volumen: Vf = V2 - V1**\n",
        "\n",
        "![imagen.png](https://scontent-bog2-2.xx.fbcdn.net/v/t39.30808-6/456699029_7979407638833082_2885097156919199223_n.jpg?_nc_cat=108&ccb=1-7&_nc_sid=127cfc&_nc_ohc=I6Lc3lFfCCYQ7kNvgHY3HUj&_nc_ht=scontent-bog2-2.xx&oh=00_AYA9seFCeSZAWGwFVroqylB2FkXVLbaoU9o9_zP0FJbU8A&oe=66CD680E)\n",
        "\n",
        "---\n",
        "\n"
      ],
      "metadata": {
        "id": "ExJF6K3ErA6d"
      }
    },
    {
      "cell_type": "markdown",
      "source": [
        "# A continuación, está la codificación del programa se ejecuta dándole play al icono que sale lado izquierdo  al lado de la numeración de las lineas de codigo"
      ],
      "metadata": {
        "id": "x6HHmb2Ovio3"
      }
    },
    {
      "cell_type": "code",
      "source": [
        "import math\n",
        "def cuadrado():\n",
        "  print(\"Calculemos el Area y el Perimetro de un CUADRADO\")\n",
        "  l=int(input(\"Por favor digite valor de los lados:\"))\n",
        "  area=math.pow(l,2)\n",
        "  perim=4*l\n",
        "  print(\"RESULTADOS...\")\n",
        "  print(f\"El Cuadrado tiene un area de :{area} y un perimetro de :{perim}\")\n",
        "\n",
        "def rectangulo():\n",
        "  sw=True\n",
        "  while sw:\n",
        "    print(\"Calculemos el Area y el Perimetro de un RECTANGULO\")\n",
        "    a=int(input(\"Por favor digite lado a: \"))\n",
        "    b=int(input(\"Por favor digite lado b: \"))\n",
        "    if a==b:\n",
        "      print(\"Los lados no pueden ser iguales, por favor digite nuevamente\")\n",
        "    else:\n",
        "      area=a*b\n",
        "      perim=2*(a+b)\n",
        "      print(\"RESULTADOS...\")\n",
        "      print(f\"El Rectangulo tiene un area de :{area} y un perimetro de :{perim}\")\n",
        "      break\n",
        "\n",
        "def triangulo():\n",
        "  print(\"Calculemos el Area y el Perimetro de un TRIANGULO\")\n",
        "  a=int(input(\"Por favor digite lado a: \"))\n",
        "  b=int(input(\"Por favor digite lado b: \"))\n",
        "  c=int(input(\"Por favor digite lado c: \"))\n",
        "  h=int(input(\"Por favor digite la altura h: \"))\n",
        "  area=(b*h)/2\n",
        "  perim=a+b+c\n",
        "  print(\"RESULTADOS...\")\n",
        "  print(f\"El Triangulo tiene un area de :{area} y un perimetro de :{perim}\")\n",
        "\n",
        "def romboide():\n",
        "  print(\"Calculemos el Area y el Perimetro de un ROMBO\")\n",
        "  a=int(input(\"Por favor digite lado a: \"))\n",
        "  b=int(input(\"Por favor digite lado b: \"))\n",
        "  h=int(input(\"Por favor digite la altura h: \"))\n",
        "  area=b*h\n",
        "  perim=2*(a+b)\n",
        "  print(\"RESULTADOS...\")\n",
        "  print(f\"El Rombo tiene un area de :{area} y un perimetro de :{perim}\")\n",
        "\n",
        "def esfera():\n",
        "  print(\"Calculemos el Area y el volumen de la ESFERA\")\n",
        "  r=int(input(\"Por favor digite el radio r: \"))\n",
        "  area=4*math.pi*math.pow(r,2)\n",
        "  volu=4/3*math.pi*math.pow(r,2)\n",
        "  print(\"RESULTADOS...\")\n",
        "  print(f\"La Esfera tiene un area de :{area:,.2f} y un volumen de : {volu:,.2f}\")\n",
        "\n",
        "def cilindro():\n",
        "  print(\"Calculemos el Area y el volumen de la CILINDRO\")\n",
        "  h=int(input(\"Por favor digite la altura h: \"))\n",
        "  r=int(input(\"Por favor digite el radio r: \"))\n",
        "  area=2*math.pi*r*+2*math.pi*math.pow(r,2)\n",
        "  volu=1/3*math.pi*math.pow(r,2)*h\n",
        "  print(\"RESULTADOS...\")\n",
        "  print(f\"El Cilindro tiene un area de :{area:,.2f} y un volumen de :{volu:,.2f}\")\n",
        "\n",
        "def cubo():\n",
        "  print(\"Calculemos el Area y el volumen deL CUBO\")\n",
        "  a=int(input(\"Por favor digite lado a: \"))\n",
        "  area=a*a*6\n",
        "  volu=math.pow(a,3)\n",
        "  print(\"RESULTADOS...\")\n",
        "  print(f\"El Cubo tiene un area de :{area:,.2f} y un volumen de :{volu:,.2f}\")\n",
        "\n",
        "def conica():\n",
        "  print(\"Calculemos el Area y el volumen del CONO\")\n",
        "  h=int(input(\"Por favor digite la altura h: \"))\n",
        "  r=int(input(\"Por favor digite el radio r: \"))\n",
        "  s=int(input(\"Por favor digite lado s: \"))\n",
        "  area=math.pi*r*s + math.pi*math.pow(r,2)\n",
        "  volu=1/3*math.pi*math.pow(r,2)*h\n",
        "  print(\"RESULTADOS...\")\n",
        "  print(f\"El Cono tiene un area de :{area:,.2f} y un volumen de :{volu:,.2f}\")\n",
        "\n",
        "def menuFigPlanas():\n",
        "   while True:\n",
        "    print(\"================================================\")\n",
        "    print(\"|     AREA Y PERIMETROS DE FIGURAS PLANAS      |\")\n",
        "    print(\"================================================\")\n",
        "    print(\"1 - CUADRADO\")\n",
        "    print(\"2 - RECTANGULO\")\n",
        "    print(\"3 - TRIANAGULO\")\n",
        "    print(\"4 - ROMBO\")\n",
        "    print(\"5 - MENU PRINCIPAL\")\n",
        "    print(\"================================================\")\n",
        "    sw = input(\"Por favor digite una opcion: \")\n",
        "    print(\"================================================\")\n",
        "    if sw == \"1\":\n",
        "      cuadrado()\n",
        "    elif sw == \"2\":\n",
        "      rectangulo()\n",
        "    elif sw == \"3\":\n",
        "      triangulo()\n",
        "    elif sw == \"4\":\n",
        "      romboide()\n",
        "    elif sw == \"5\":\n",
        "      break\n",
        "    else:\n",
        "      print(\"Opcion no valida por favor digite una opcion entre 1 y 5\")\n",
        "\n",
        "def menuFigVolumetricas():\n",
        "  while True:\n",
        "    print(\"================================================\")\n",
        "    print(\"| AREA Y VOLUMENES DE FIGURAS VOLUMETRICAS     |\")\n",
        "    print(\"================================================\")\n",
        "    print(\"1 - ESFERA\")\n",
        "    print(\"2 - CILINDRO\")\n",
        "    print(\"3 - CUBO\")\n",
        "    print(\"4 - CONICA\")\n",
        "    print(\"5 - MENU PRINCIPAL\")\n",
        "    print(\"================================================\")\n",
        "    sw = input(\"Por favor digite una opcion:\")\n",
        "    print(\"================================================\")\n",
        "    if sw == \"1\":\n",
        "      esfera()\n",
        "    elif sw == \"2\":\n",
        "      cilindro()\n",
        "    elif sw == \"3\":\n",
        "      cubo()\n",
        "    elif sw == \"4\":\n",
        "      conica()\n",
        "    elif sw == \"5\":\n",
        "      break\n",
        "    else:\n",
        "      print(\"Opcion no valida por favor digite una opcion entre 1 y 5\")\n",
        "\n",
        "def menuFigSolidIrreg():\n",
        "  print(\"================================================\")\n",
        "  print(\"|      VOLUMEN DE SOLIDOS IRREGULARES          |\")\n",
        "  print(\"================================================\")\n",
        "  v1=int(input(\"Digite por favor el Volumen inicial del recipiente: \"))\n",
        "  v2=int(input(\"Digite por favor el Volumen final con el objeto dentro: \"))\n",
        "  vf=v2-v1\n",
        "  print(\"RESULTADOS...\")\n",
        "  print(f\"El volumen del objeto es :{vf}\")\n",
        "\n",
        "def menuPrincipal():\n",
        "  while True:\n",
        "    print(\"================================================\")\n",
        "    print(\"|             MENU PRINCIPAL                   |\")\n",
        "    print(\"================================================\")\n",
        "    print(\"1 - FIGURAS PLANAS\")\n",
        "    print(\"2 - FIGURAS VOLUMETRICAS\")\n",
        "    print(\"3 - FIGURAS SOLIDAS IRREGULARES\")\n",
        "    print(\"4 - SALIR\")\n",
        "    print(\"================================================\")\n",
        "    sw = input(\"Por favor digite una opcion: \")\n",
        "    print(\"================================================\")\n",
        "    if sw == \"1\":\n",
        "      menuFigPlanas()\n",
        "    elif sw == \"2\":\n",
        "      menuFigVolumetricas()\n",
        "    elif sw == \"3\":\n",
        "      menuFigSolidIrreg()\n",
        "    elif sw == \"4\":\n",
        "      print(\"================================================\")\n",
        "      print(\"Gracias por usar la aplicacion\")\n",
        "      print(\"================================================\")\n",
        "      break\n",
        "    else:\n",
        "      print(\"Opcion no valida por favor digite una opcion entre 1 y 4\")\n",
        "\n",
        "\n",
        "menuPrincipal()"
      ],
      "metadata": {
        "id": "AtcqGCkpyAeM"
      },
      "execution_count": null,
      "outputs": []
    },
    {
      "cell_type": "markdown",
      "source": [
        "En conclusión, desarrollar una aplicación para calcular áreas, perímetros y volúmenes de figuras geométricas ofrece una herramienta práctica y eficiente para estudiantes, profesionales y cualquier persona que necesite realizar estos cálculos de forma rápida y precisa. Además, la aplicación afianza los conocimientos de aritmetica."
      ],
      "metadata": {
        "id": "GEvAc24xxBYw"
      }
    }
  ]
}